{
 "cells": [
  {
   "cell_type": "markdown",
   "metadata": {},
   "source": [
    "#### Aws S3 Commands"
   ]
  },
  {
   "cell_type": "markdown",
   "metadata": {},
   "source": [
    "Once AWS cli is installed then you need to configure aws using any of aws iam user credentials\n"
   ]
  },
  {
   "cell_type": "markdown",
   "metadata": {},
   "source": [
    "##### You can't create folders in s3 from command prompt instead you can copy or move any of folders to / from s3\n",
    "       To list the directories and files\n",
    "        aws s3 ls s3://aws-s3-bucket-spark-test/\n",
    "        \n",
    "      To Copy a folder from S3 to local and it's underlying files/directorys\n",
    "        aws s3 cp aws s3 cp s3://aws-s3-bucket-spark-test/input . --recursive\n",
    "        \n",
    "      To copy a folder from local to S3\n",
    "         aws s3 cp . s3://aws-s3-bucket-spark-test/ --recursive\n",
    "         \n",
    "      To delete a file/folder from S3\n",
    "         aws s3 rm  s3://aws-s3-bucket-spark-test/csvdata --recursive\n",
    "##### If user has permissions(credential used to configure aws configure) can only create,remove bucket and delete file/folder from bucket\n",
    "      To create bucket from ec2 instance\n",
    "          aws s3 mb s3://awsbucketcreatefromec2/ \n",
    "          \n",
    "      To copy all files/folders from once bucket to another bucket \n",
    "       aws s3 cp s3://aws-s3-bucket-spark-test/ s3://awsbucketcreatefromec2/ --recursive\n",
    "       \n",
    "      Remove all files/folders under s3 bucket\n",
    "       aws s3 rm s3://awsbucketcreatefromec2/ --recursive\n",
    "       \n",
    "      Remove bucket when emtpy\n",
    "       aws s3 rb s3://awsbucketcreatefromec2/\n",
    "       \n",
    "       Non-empty buckets can't be removed\n",
    "       \n",
    "      To copy all files/folders from local to s3 excluding some files/folders      \n",
    "       aws s3 cp . s3://aws-s3-bucket-spark-test/ --recursive --exclude \".*\"\n",
    "       \n",
    "      To copy all files/folders from s3 to local excluding some files/folders\n",
    "        aws s3 cp s3://aws-s3-bucket-spark-test/ . --recursive --exclude \"*.txt\"\n",
    "        \n",
    "      aws s3 cp s3://aws-s3-bucket-spark-test/  s3://awss3bucketcreatedfromec2/ --recursive --exclude \"*.xml\"\n"
   ]
  },
  {
   "cell_type": "markdown",
   "metadata": {},
   "source": [
    "#### When do you go for IAM roles?\n",
    "    If you use aws credentials to access s3, these information will be stored in hidden files\n",
    "        .aws/credential\n",
    "    Anybody can misuse, so we don't use aws configure, instead associate IAM role to instance\n",
    "    IAM Roles -> you are granting privileges to services \n",
    "        One service will be accessed another service\n",
    "#### If IAM Role associated to your instance you can able to directly access s3, instead of aws configure that requires user credentials aws_access_key_id,aws_secret_access_key_id,region,etc.."
   ]
  }
 ],
 "metadata": {
  "kernelspec": {
   "display_name": "Apache Toree - Scala",
   "language": "scala",
   "name": "apache_toree_scala"
  },
  "language_info": {
   "codemirror_mode": "text/x-scala",
   "file_extension": ".scala",
   "mimetype": "text/x-scala",
   "name": "scala",
   "pygments_lexer": "scala",
   "version": "2.11.12"
  }
 },
 "nbformat": 4,
 "nbformat_minor": 2
}
