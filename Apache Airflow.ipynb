{
 "cells": [
  {
   "cell_type": "markdown",
   "metadata": {},
   "source": [
    "### What is Airflow?\n",
    "<b> Airflow allows you to create ,schedule and monitor workflows</b>\n",
    "* Workflows are called DAG\n",
    "    * Directed Acyclic graph is a graph that has no cycles and data in each node flows forwared in only one direction\n",
    "    * DAG is a collection of tasks\n",
    "    * DAG is a container that's used to organize task(What actually to be done)\n"
   ]
  }
 ],
 "metadata": {
  "kernelspec": {
   "display_name": "Python 3",
   "language": "python",
   "name": "python3"
  },
  "language_info": {
   "codemirror_mode": {
    "name": "ipython",
    "version": 3
   },
   "file_extension": ".py",
   "mimetype": "text/x-python",
   "name": "python",
   "nbconvert_exporter": "python",
   "pygments_lexer": "ipython3",
   "version": "3.6.9"
  }
 },
 "nbformat": 4,
 "nbformat_minor": 2
}
